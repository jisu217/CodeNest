{
 "cells": [
  {
   "cell_type": "code",
   "execution_count": null,
   "id": "e83f9461",
   "metadata": {},
   "outputs": [],
   "source": [
    "X = int(input()) # 원하는 길이 X <= 64\n",
    "stick = 64 # 처음 막대 길이\n",
    "count = 0 # 조각 개수\n",
    "\n",
    "while X > 0: # X를 다 만들 때까지 반복\n",
    "   if stick > X:\n",
    "      stick //= 2  # 막대 반으로 자르기\n",
    "   else:\n",
    "      X -= stick # 막대 사용 = X에서 빼기\n",
    "      count += 1 # 막대 개수 증가\n",
    "\n",
    "print(count)"
   ]
  }
 ],
 "metadata": {
  "language_info": {
   "name": "python"
  }
 },
 "nbformat": 4,
 "nbformat_minor": 5
}
