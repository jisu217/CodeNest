{
 "cells": [
  {
   "cell_type": "code", 
   "execution_count": null,
   "id": "855c8e24-aee2-45c8-a1e0-97bd51312ceb",
   "metadata": {},
   "outputs": [],
   "source": [
    "import math\n",
    "\n",
    "T = int(input()) # 테스트 케이스의 개수\n",
    "\n",
    "for i in range(T) :\n",
    "    N, M = map(int, input().split()) # N: 서쪽, M: 동쪽\n",
    "    result = math.comb(M, N)  # M개 중 N개를 고르는 조합\n",
    "    print(result)"
   ]
  }
 ],
 "metadata": {
  "kernelspec": {
   "display_name": "Python 3",
   "language": "python",
   "name": "python3"
  },
  "language_info": {
   "codemirror_mode": {
    "name": "ipython",
    "version": 3
   },
   "file_extension": ".py",
   "mimetype": "text/x-python",
   "name": "python",
   "nbconvert_exporter": "python",
   "pygments_lexer": "ipython3",
   "version": "3.11.13"
  }
 },
 "nbformat": 4,
 "nbformat_minor": 5
}
