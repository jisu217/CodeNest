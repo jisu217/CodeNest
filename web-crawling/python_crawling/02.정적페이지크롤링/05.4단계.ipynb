{
 "cells": [
  {
   "cell_type": "code",
   "execution_count": null,
   "id": "9fa84ebe",
   "metadata": {},
   "outputs": [],
   "source": [
    "pip install pandas"
   ]
  },
  {
   "cell_type": "code",
   "execution_count": null,
   "id": "7caad900",
   "metadata": {},
   "outputs": [],
   "source": [
    "pip install openpyxl"
   ]
  },
  {
   "cell_type": "code",
   "execution_count": null,
   "id": "14454d76",
   "metadata": {},
   "outputs": [],
   "source": [
    "data = [\n",
    "    ['카테고리1', '상품명1', '링크1', '가격1'],\n",
    "    ['카테고리2', '상품명2', '링크2', '가격2'],\n",
    "    ['카테고리10', '상품명10', '링크10', '가격10'],\n",
    "]"
   ]
  },
  {
   "cell_type": "code",
   "execution_count": null,
   "id": "d08e7f4d",
   "metadata": {},
   "outputs": [
    {
     "data": {
      "text/plain": [
       "[['카테고리1', '상품명1', '링크1', '가격1'],\n",
       " ['카테고리2', '상품명2', '링크2', '가격2'],\n",
       " ['카테고리10', '상품명10', '링크10', '가격10']]"
      ]
     },
     "execution_count": 1,
     "metadata": {},
     "output_type": "execute_result"
    }
   ],
   "source": [
    "data = []\n",
    "data.append(['카테고리1', '상품명1', '링크1', '가격1'])\n",
    "data.append(['카테고리2', '상품명2', '링크2', '가격2'])\n",
    "data.append(['카테고리10', '상품명10', '링크10', '가격10'])\n",
    "data"
   ]
  },
  {
   "cell_type": "code",
   "execution_count": null,
   "id": "e216999e",
   "metadata": {},
   "outputs": [],
   "source": [
    "import requests\n",
    "from bs4 import BeautifulSoup\n",
    "import pandas as pd\n",
    "\n",
    "data = []\n",
    "for i in range(1, 5):\n",
    "    response = requests.get(f\"https://startcoding.pythonanywhere.com/basic?page={i}\")\n",
    "    html = response.text\n",
    "    soup = BeautifulSoup(html,'html.parser')\n",
    "    items = soup.select(\".product\")\n",
    "    for item in items:\n",
    "        category = item.select_one(\".product-category\").text\n",
    "        name = item.select_one(\".product-name\").text \n",
    "        link = item.select_one(\".product-name > a\").attrs[ 'href']\n",
    "        price = item.select_one(\".product-price\").text.split('원')[0]\n",
    "        print(category, name, link, price)\n",
    "        data.append([category, name, link, price])"
   ]
  },
  {
   "cell_type": "code",
   "execution_count": null,
   "id": "925eab8c",
   "metadata": {},
   "outputs": [],
   "source": [
    "# 데이터 프레임 만들기\n",
    "df = pd.DataFrame(data, columns=['카테고리', '상품명', '상세페이지링크', '가격'])\n",
    "df "
   ]
  },
  {
   "cell_type": "code",
   "execution_count": null,
   "id": "2cdc0559",
   "metadata": {},
   "outputs": [],
   "source": [
    "# 엑셀 저장\n",
    "df.to_excel('result.xlsx', index= false)"
   ]
  }
 ],
 "metadata": {
  "kernelspec": {
   "display_name": ".venv",
   "language": "python",
   "name": "python3"
  },
  "language_info": {
   "codemirror_mode": {
    "name": "ipython",
    "version": 3
   },
   "file_extension": ".py",
   "mimetype": "text/x-python",
   "name": "python",
   "nbconvert_exporter": "python",
   "pygments_lexer": "ipython3",
   "version": "3.13.0b4"
  }
 },
 "nbformat": 4,
 "nbformat_minor": 5
}
