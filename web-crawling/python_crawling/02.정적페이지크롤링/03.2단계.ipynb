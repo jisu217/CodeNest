{
 "cells": [
  {
   "cell_type": "code",
   "execution_count": 1,
   "id": "3e1ab89e",
   "metadata": {},
   "outputs": [
    {
     "name": "stderr",
     "output_type": "stream",
     "text": [
      "/Users/jisu/Documents/web-crawling/.venv/lib/python3.13/site-packages/requests/__init__.py:86: RequestsDependencyWarning: Unable to find acceptable character detection dependency (chardet or charset_normalizer).\n",
      "  warnings.warn(\n"
     ]
    },
    {
     "name": "stdout",
     "output_type": "stream",
     "text": [
      "1,419,000\n",
      "549,000\n",
      "529,000\n",
      "624,000\n",
      "1,135,000\n",
      "398,000\n",
      "899,000\n",
      "929,000\n",
      "1,008,000\n",
      "1,149,000\n"
     ]
    }
   ],
   "source": [
    "import requests\n",
    "from bs4 import BeautifulSoup\n",
    "\n",
    "response = requests.get(\"https://startcoding.pythonanywhere.com/basic\")\n",
    "html = response.text\n",
    "soup = BeautifulSoup(html,'html.parser')\n",
    "items = soup.select(\".product\")\n",
    "for item in items:\n",
    "    category = item.select_one(\".product-category\").text\n",
    "    name = item.select_one(\".product-name\").text \n",
    "    link = item.select_one(\".product-name > a\").attrs[ 'href']\n",
    "    price = item.select_one(\".product-price\").text.split('원')[0]\n",
    "    print(price)"
   ]
  }
 ],
 "metadata": {
  "kernelspec": {
   "display_name": ".venv",
   "language": "python",
   "name": "python3"
  },
  "language_info": {
   "codemirror_mode": {
    "name": "ipython",
    "version": 3
   },
   "file_extension": ".py",
   "mimetype": "text/x-python",
   "name": "python",
   "nbconvert_exporter": "python",
   "pygments_lexer": "ipython3",
   "version": "3.13.0b4"
  }
 },
 "nbformat": 4,
 "nbformat_minor": 5
}
