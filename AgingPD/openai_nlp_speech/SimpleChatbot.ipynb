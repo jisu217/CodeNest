{
 "cells": [
  {
   "cell_type": "code",
   "execution_count": null,
   "id": "954f0e4b-a823-4314-9dca-945e8ad1f704",
   "metadata": {},
   "outputs": [],
   "source": [
    "import streamlit as st\n",
    "from langchain_community.chat_models import ChatOpenAI\n",
    "\n",
    "st.set_page_config(page_title = \"Pregunta lo que quieras😊\")\n",
    "st.title(\"Pregunta lo que quieras, estoy aquí para ayudarte. 😊\")\n",
    "\n",
    "import os\n",
    "os.environ[\"OPENAI_API_KEY\"] = \"write your api key\"\n",
    "\n",
    "def generate_response(input_text):\n",
    "    llm = ChatOpenAI(temperature=0, model_name=\"gpt-4\")\n",
    "    st.info(llm.predict(input_text))\n",
    "\n",
    "with st.form('Question'):\n",
    "    text = st.text_area('Escribe tu pregunta: ', \"¿Qué tipos de modelos de texto proporciona OpenAI?\") #첫 페이지가 실행될때 보여줄 질문\n",
    "    submitted = st.form_submit_button('ENVIAR')\n",
    "    generate_response(text)"
   ]
  }
 ],
 "metadata": {
  "kernelspec": {
   "display_name": "Python 3 (ipykernel)",
   "language": "python",
   "name": "python3"
  },
  "language_info": {
   "codemirror_mode": {
    "name": "ipython",
    "version": 3
   },
   "file_extension": ".py",
   "mimetype": "text/x-python",
   "name": "python",
   "nbconvert_exporter": "python",
   "pygments_lexer": "ipython3",
   "version": "3.11.7"
  }
 },
 "nbformat": 4,
 "nbformat_minor": 5
}
