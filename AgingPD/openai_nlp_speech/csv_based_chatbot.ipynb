{
 "cells": [
  {
   "cell_type": "code",
   "execution_count": null,
   "id": "16003874-d371-4959-b644-070c5929a3dc",
   "metadata": {},
   "outputs": [],
   "source": [
    "pip install langchain-experimental\n",
    "pip install tabulate"
   ]
  },
  {
   "cell_type": "code",
   "execution_count": null,
   "id": "d15e22f0-5359-4af5-8032-3e63400bb726",
   "metadata": {},
   "outputs": [],
   "source": [
    "import pandas as pd\n",
    "from langchain_openai import ChatOpenAI  # 최신 권장 import\n",
    "from langchain.agents.agent_types import AgentType\n",
    "from langchain_experimental.agents.agent_toolkits import create_pandas_dataframe_agent\n",
    "import os\n",
    "\n",
    "# OpenAI API 키 설정\n",
    "import os\n",
    "os.environ[\"OPENAI_API_KEY\"] = \"write your api key\"\n",
    "\n",
    "# 데이터프레임 로드\n",
    "df = pd.read_csv(\"./datos/HollywoodsMostProfitableStories.csv\")  # 파일 경로 수정 필요\n",
    "\n",
    "# Pandas Agent 생성 (⚠️ allow_dangerous_code=True 추가!)\n",
    "agent = create_pandas_dataframe_agent(\n",
    "    ChatOpenAI(temperature=0.0, model=\"gpt-4o\"),\n",
    "    df,\n",
    "    verbose=True,\n",
    "    agent_type=AgentType.OPENAI_FUNCTIONS,\n",
    "    allow_dangerous_code=True  # 중요!!\n",
    ")\n",
    "\n",
    "# 질문 실행\n",
    "query = \"어떤 작품의 PROFITABLILITY가 제일 높아?\"\n",
    "result = agent.invoke(query)\n",
    "\n",
    "# 결과 출력\n",
    "print(result)"
   ]
  }
 ],
 "metadata": {
  "kernelspec": {
   "display_name": "Python 3 (ipykernel)",
   "language": "python",
   "name": "python3"
  },
  "language_info": {
   "codemirror_mode": {
    "name": "ipython",
    "version": 3
   },
   "file_extension": ".py",
   "mimetype": "text/x-python",
   "name": "python",
   "nbconvert_exporter": "python",
   "pygments_lexer": "ipython3",
   "version": "3.11.7"
  }
 },
 "nbformat": 4,
 "nbformat_minor": 5
}
