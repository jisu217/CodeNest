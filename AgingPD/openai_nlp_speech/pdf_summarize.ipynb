{
 "cells": [
  {
   "cell_type": "code",
   "execution_count": null,
   "id": "9836ff6c-5b25-484c-8e3f-0b7dd3627e57",
   "metadata": {},
   "outputs": [],
   "source": [
    "!pip install PyPDF2"
   ]
  },
  {
   "cell_type": "code",
   "execution_count": null,
   "id": "797d342d-1d03-49ee-b269-2637c11b8aff",
   "metadata": {},
   "outputs": [],
   "source": [
    "import os\n",
    "from PyPDF2 import PdfReader\n",
    "import streamlit as st\n",
    "from langchain_text_splitters import CharacterTextSplitter\n",
    "from langchain_openai import OpenAIEmbeddings\n",
    "from langchain import FAISS\n",
    "from langchain.chains.question_answering import load_qa_chain\n",
    "from langchain.chat_models import ChatOpenAI\n",
    "from langchain.callbacks import get_openai_callback\n",
    "\n",
    "api_key = \"write your api key\"\n",
    "\n",
    "def process_text(text):\n",
    "    #CharacterTextSplitter을 사용하여 텍스트를 청크로 분할\n",
    "    text_splitter = CharacterTextSplitter(\n",
    "        separator = \"\\n\",\n",
    "        chunk_size = 1000,\n",
    "        chunk_overlap= 200,\n",
    "        length_function=len\n",
    "    )\n",
    "    chunks = text_splitter.split_text(text)\n",
    "\n",
    "    #임베딩 처리 (벡터 변환)\n",
    "    embeddings = OpenAIEmbeddings(model = \"text-embedding-ada-002\", api_key = api_key)\n",
    "    documents = FAISS.from_texts(chunks, embeddings)\n",
    "    return documents\n",
    "\n",
    "def main():\n",
    "    st.title(\"Resumen de PDF\")\n",
    "    st.divider()\n",
    "\n",
    "    pdf = st.file_uploader(\"Sube un archivo de PDF\", type = 'pdf')\n",
    "\n",
    "    if pdf is not None:\n",
    "        pdf_reader = PdfReader(pdf)\n",
    "        text = \"\" #텍스트 변수에 pdf 저장\n",
    "        for page in pdf_reader.pages:\n",
    "            text += page.extract_text()\n",
    "\n",
    "        documents = process_text(text)\n",
    "        query = \"Resuma el contenido del archivo PDF cargado en unas 3 a 5 oraciones, por favor.\"\n",
    "\n",
    "        if query:\n",
    "            docs = documents.similarity_search(query)\n",
    "            model_name = \"gpt-4-turbo\"\n",
    "            llm = ChatOpenAI(model_name=model_name, api_key=api_key, temperature = 0.1)\n",
    "            chain = load_qa_chain(llm, chain_type='stuff')\n",
    "            with get_openai_callback() as cost:\n",
    "                response = chain.run(input_documents = docs, question = query)\n",
    "                print(cost)\n",
    "            st.subheader('Resumen del archivo')\n",
    "            st.write(response)\n",
    "\n",
    "if __name__ == '__main__':\n",
    "    main()"
   ]
  }
 ],
 "metadata": {
  "kernelspec": {
   "display_name": "Python 3 (ipykernel)",
   "language": "python",
   "name": "python3"
  },
  "language_info": {
   "codemirror_mode": {
    "name": "ipython",
    "version": 3
   },
   "file_extension": ".py",
   "mimetype": "text/x-python",
   "name": "python",
   "nbconvert_exporter": "python",
   "pygments_lexer": "ipython3",
   "version": "3.11.7"
  }
 },
 "nbformat": 4,
 "nbformat_minor": 5
}
