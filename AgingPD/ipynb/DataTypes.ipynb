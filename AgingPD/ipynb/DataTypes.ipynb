{
 "cells": [
  {
   "cell_type": "code",
   "execution_count": 55,
   "id": "b8d70155-46ab-4008-9e76-002b176a2210",
   "metadata": {},
   "outputs": [
    {
     "name": "stdout",
     "output_type": "stream",
     "text": [
      "절수    19\n",
      "영회    85\n",
      "민수    76\n",
      "dtype: int64\n"
     ]
    }
   ],
   "source": [
    "import pandas as pd\n",
    "s = pd.Series([19, 85, 76], index=['절수', '영회', '민수'])\n",
    "print(s)"
   ]
  },
  {
   "cell_type": "code",
   "execution_count": 8,
   "id": "0cf5dd50-040e-4411-a4af-330e42358d83",
   "metadata": {},
   "outputs": [
    {
     "name": "stdout",
     "output_type": "stream",
     "text": [
      "   이름  점수\n",
      "0  철수  90\n",
      "1  영희  85\n",
      "2  민수  78\n"
     ]
    }
   ],
   "source": [
    "df = pd. DataFrame ({\n",
    "     '이름': ['철수', '영희', '민수'],\n",
    "     '점수': [90, 85, 78]\n",
    "})\n",
    "print(df)"
   ]
  },
  {
   "cell_type": "code",
   "execution_count": 13,
   "id": "a2aa7f1d-112d-4ff2-8a00-6ec65cb25813",
   "metadata": {},
   "outputs": [],
   "source": [
    "import pandas as pd\n",
    "\n",
    "df = pd. DataFrame ({\n",
    "    '나이': ['20', '30', '40'], # 문자열\n",
    "    '점수': ['90', '85', '78'], # 문자열\n",
    "    '생일': ['2000-01-01', '1995-03-22', '1985-07-09']\n",
    "})\n",
    "\n",
    "# 문자열 -> 숫자\n",
    "df['나이']= df['나이'].astype(int)\n",
    "\n",
    "# 문자열 - 날짜\n",
    "df['생일']= pd.to_datetime(df['생일'])"
   ]
  }
 ],
 "metadata": {
  "kernelspec": {
   "display_name": "Python 3 (ipykernel)",
   "language": "python",
   "name": "python3"
  },
  "language_info": {
   "codemirror_mode": {
    "name": "ipython",
    "version": 3
   },
   "file_extension": ".py",
   "mimetype": "text/x-python",
   "name": "python",
   "nbconvert_exporter": "python",
   "pygments_lexer": "ipython3",
   "version": "3.11.7"
  }
 },
 "nbformat": 4,
 "nbformat_minor": 5
}
