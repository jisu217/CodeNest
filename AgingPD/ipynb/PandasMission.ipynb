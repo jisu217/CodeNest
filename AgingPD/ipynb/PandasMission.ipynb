{
 "cells": [
  {
   "cell_type": "code",
   "execution_count": null,
   "id": "80958c29-418a-4d7b-8f65-37f099e4a834",
   "metadata": {},
   "outputs": [],
   "source": [
    "import pandas as pd\n",
    "\n",
    "#[미션1] pd.read_csv에 사용되는 옵션 확인, 특히 sep에 대하여서\n",
    "sep 옵션, 열을 구분하는 기준 문자(구분자)를 지정하는 옵션\n",
    "\n",
    "#[미션2] 한글 encoding에 대하여 확인\n",
    "기본값은 UTF-8 적용\n",
    "\n",
    "df=pd.read_csv('/content/서울교통공사_지하철혼잡도정보_20250331.csv')\n",
    "print(df.head())"
   ]
  },
  {
   "cell_type": "code",
   "execution_count": null,
   "id": "14c4cb62-7029-4cac-a80a-300858f9a4fb",
   "metadata": {},
   "outputs": [],
   "source": []
  },
  {
   "cell_type": "code",
   "execution_count": null,
   "id": "c8213610-6271-4f86-a2e3-75b8d7ca1f50",
   "metadata": {},
   "outputs": [],
   "source": [
    "# [미션_A] 데이터 분석에서 문자열과 숫자 분석 분야\n",
    "문자열: 데이터 분류 및 그룹화, 호선별 / 숫자: 데이터 크기, 분포, 관계 측정, '8시30분'\n",
    "\n",
    "# [미션_A] 판다스 처리에서 문자열과 숫자분석 알아야할 상식\n",
    "가장 기본적인 패턴은 문자열(범주형) 컬럼으로 그룹을 나누고, 숫자 컬럼의 통계를 계산하는 것\n",
    "\n",
    "# [미션_B] 다음 info를 gpt에 넣어서 인사이트 분석 가능 분야\n",
    "시간대별, 요일별, 노선별, 역사별, 방향(상/하선)별 혼잡도 분석\n",
    "\n",
    "# [미션_B] EDA 항목 과 이유, 결과 인사이트를 표로 정리해줘\n",
    "러시 아워 패턴 - 쌍봉형 그래프 (평일 8-9출근, 6-7퇴근)\n",
    "여가 목적(주말)의 이용 패턴 차이 - 평일이 주말보다 훨씬 높을 것\n",
    "효율화나 배차 간격 조정 - 2호선, 9호선이 가장 높은 혼잡도\n",
    "유동인구가 가장 많은 핵심 지역 - 강남, 잠실, 신도림, 홍대입구, 사당\n",
    "승객의 이동 방향성 - 평일 출근 시간: 도심으로 향하는 방향, 평일 퇴근 시간: 반대 방향의 혼잡도\n",
    "\n",
    "print(df.info())"
   ]
  },
  {
   "cell_type": "code",
   "execution_count": null,
   "id": "e23e74db-2353-4b53-bb1a-8ed7c59391e2",
   "metadata": {},
   "outputs": [],
   "source": []
  },
  {
   "cell_type": "code",
   "execution_count": null,
   "id": "05c2a7c2-7d72-4263-943d-be29cb0930c6",
   "metadata": {},
   "outputs": [],
   "source": [
    "# [미션B] 결측치란 무엇이고, 결측치 대처법은\n",
    "결측치란 데이터 수집 과정에서 누락되거나 비어있는 값이며 삭제 또는 대치로 해결"
   ]
  },
  {
   "cell_type": "code",
   "execution_count": null,
   "id": "71ed2a08-8929-4bd0-8ca9-136f2cdcd002",
   "metadata": {},
   "outputs": [],
   "source": [
    "# [미션A] 데이터 전체 결측치 확인\n",
    "df.isnull().sum().sum()\n",
    "\n",
    "np.int64(0)"
   ]
  },
  {
   "cell_type": "code",
   "execution_count": null,
   "id": "cdcb47a4-0fce-4468-a9b4-8a1c24e43bef",
   "metadata": {},
   "outputs": [],
   "source": [
    "# [미션A] 각 항목별 데이터 결측치 확인\n",
    "df.isnull().sum()"
   ]
  },
  {
   "cell_type": "code",
   "execution_count": null,
   "id": "2e2f98eb-d8ca-4196-afdb-f399df5cb815",
   "metadata": {},
   "outputs": [],
   "source": []
  },
  {
   "cell_type": "code",
   "execution_count": null,
   "id": "ad5fb686-ee73-4ee4-921f-a0dd5af1149f",
   "metadata": {},
   "outputs": [],
   "source": [
    "# [미션A] 데이터결측치가 있는 컬럼보기\n",
    "df.columns[df.isnull().any()]\n",
    "\n",
    "Index([], dtype='object') 데이터프레임에서 결측치가 하나라도 있는 컬럼의 이름을 보여줌 "
   ]
  },
  {
   "cell_type": "code",
   "execution_count": null,
   "id": "1ea111d4-7f48-4131-ba74-93ac6e2126d5",
   "metadata": {},
   "outputs": [],
   "source": [
    "# [미션A] 출발역 중복제거하고 print해줘\n",
    "df['출발역'].unique()"
   ]
  },
  {
   "cell_type": "code",
   "execution_count": null,
   "id": "7906ec88-586e-4de1-866b-618a16ce9b3d",
   "metadata": {},
   "outputs": [],
   "source": []
  },
  {
   "cell_type": "code",
   "execution_count": null,
   "id": "09169b25-cc0c-42e3-8eae-4e2dfe39b4bd",
   "metadata": {},
   "outputs": [],
   "source": [
    "# [미션A] 중복제거한 출발역의 갯수는?\n",
    "df['출발역'].nunique()\n",
    "\n",
    "244"
   ]
  },
  {
   "cell_type": "code",
   "execution_count": null,
   "id": "d830b255-ae7e-407b-a735-4a9c3f24d3de",
   "metadata": {},
   "outputs": [],
   "source": [
    "# [미션B] 다음 itemList를 이용하여 for로 중복제거 관련\n",
    "itemList=['요일','출발역']\n",
    "\n",
    "for item in itemList:\n",
    "    unique_count = df[item].nunique()\n",
    "    print(f\"'{item}' 컬럼의 고유한 값 개수: {unique_count}\")\n",
    "\n",
    "# [미션B] 자료중에 object 만 걸러서 중복제거 리스트\n",
    "print(\"--- Object 타입 컬럼들의 고유값 개수 ---\")\n",
    "\n",
    "object_columns = df.select_dtypes(include=['object']).columns\n",
    "\n",
    "for col in object_columns:\n",
    "    unique_count = df[col].nunique()\n",
    "    print(f\"'{col}' 컬럼의 고유한 값 개수: {unique_count}\"\n",
    "\n",
    "# [미션A] pdf 페이지 45페이지 9번 참조, -> '5시30분' 분 필드에 값이  1보다 작은 값 찾기\n",
    "df[df['5시30분'] < 1]\n",
    "\n",
    "# [미션A] pdf 페이지 45페이지 10번 참조, -> '5시30분' 분 필드에 값이  1보다 작고 그리고 '6시00분'의 값이 2보다 작은값 찾기\n",
    "df[(df['5시30분'] < 1) & (df['6시00분'] < 2)]\n",
    "\n",
    "# [미션A] pdf 페이지 45페이지 11번 참조, '5시30분' 분 필드 + '6시00분' 필드 더해서  '오전6시까지' 라는 새로운 필드 만들기\n",
    "df['오전6시까지'] = df['5시30분'] + df['6시00분']\n",
    "print(df[['5시30분', '6시00분', '오전6시까지']].head())"
   ]
  }
 ],
 "metadata": {
  "kernelspec": {
   "display_name": "Python 3 (ipykernel)",
   "language": "python",
   "name": "python3"
  },
  "language_info": {
   "codemirror_mode": {
    "name": "ipython",
    "version": 3
   },
   "file_extension": ".py",
   "mimetype": "text/x-python",
   "name": "python",
   "nbconvert_exporter": "python",
   "pygments_lexer": "ipython3",
   "version": "3.11.7"
  }
 },
 "nbformat": 4,
 "nbformat_minor": 5
}
